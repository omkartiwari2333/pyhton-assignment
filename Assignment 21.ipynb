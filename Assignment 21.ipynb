{
 "cells": [
  {
   "cell_type": "markdown",
   "id": "79b2d5c5",
   "metadata": {},
   "source": [
    "1. Add the current date to the text file today.txt as a string."
   ]
  },
  {
   "cell_type": "code",
   "execution_count": 2,
   "id": "27f56278",
   "metadata": {},
   "outputs": [
    {
     "name": "stdout",
     "output_type": "stream",
     "text": [
      "Current date added to today.txt.\n"
     ]
    }
   ],
   "source": [
    "from datetime import datetime\n",
    "current_date = datetime.now().strftime('%Y-%m-%d')\n",
    "\n",
    "with open('today.txt', 'a') as file:\n",
    "    file.write(current_date + '\\n')\n",
    "\n",
    "print(\"Current date added to today.txt.\")\n"
   ]
  },
  {
   "cell_type": "markdown",
   "id": "8d6f7cfa",
   "metadata": {},
   "source": [
    "2. Read the text file today.txt into the string today_string"
   ]
  },
  {
   "cell_type": "code",
   "execution_count": 3,
   "id": "848ee073",
   "metadata": {},
   "outputs": [
    {
     "name": "stdout",
     "output_type": "stream",
     "text": [
      "2023-08-31\n",
      "2023-08-31\n",
      "\n"
     ]
    }
   ],
   "source": [
    "with open('today.txt', 'r') as file:\n",
    "    today_string = file.read()\n",
    "\n",
    "print(today_string)\n"
   ]
  },
  {
   "cell_type": "markdown",
   "id": "0ce7ba47",
   "metadata": {},
   "source": [
    "3. Parse the date from today_string."
   ]
  },
  {
   "cell_type": "code",
   "execution_count": 12,
   "id": "70496f77",
   "metadata": {},
   "outputs": [
    {
     "name": "stdout",
     "output_type": "stream",
     "text": [
      "Error: unconverted data remains: \n",
      "2023-08-31\n"
     ]
    }
   ],
   "source": [
    "from datetime import datetime\n",
    "\n",
    "fmt = '%Y-%m-%d'\n",
    "\n",
    "try:\n",
    "    parsed_date = datetime.strptime(today_string.strip(), fmt).date()\n",
    "    print(\"Parsed date:\", parsed_date)\n",
    "except ValueError as e:\n",
    "    print(\"Error:\", e)\n"
   ]
  },
  {
   "cell_type": "markdown",
   "id": "4e652bb0",
   "metadata": {},
   "source": [
    "4. List the files in your current directory"
   ]
  },
  {
   "cell_type": "code",
   "execution_count": 13,
   "id": "1f09a4ad",
   "metadata": {},
   "outputs": [
    {
     "name": "stdout",
     "output_type": "stream",
     "text": [
      ".accessibility.properties\n",
      ".anaconda\n",
      ".astropy\n",
      ".cache\n",
      ".conda\n",
      ".condarc\n",
      ".continuum\n",
      ".cufflinks\n",
      ".gitconfig\n",
      ".ipynb_checkpoints\n",
      ".ipython\n",
      ".jupyter\n",
      ".matplotlib\n",
      ".opera\n",
      ".Origin\n",
      ".python_history\n",
      ".QtWebEngineProcess\n",
      ".vscode\n",
      "3D Objects\n",
      "anaconda3\n",
      "ansel\n",
      "AppData\n",
      "Application Data\n",
      "Assignment 10.ipynb\n",
      "Assignment 11.ipynb\n",
      "Assignment 12.ipynb\n",
      "Assignment 13.ipynb\n",
      "Assignment 14.ipynb\n",
      "Assignment 15.ipynb\n",
      "Assignment 16.ipynb\n",
      "Assignment 17.ipynb\n",
      "Assignment 18.ipynb\n",
      "Assignment 19.ipynb\n",
      "Assignment 20.ipynb\n",
      "Assignment 21.ipynb\n",
      "Assignment 3  Python.ipynb\n",
      "Assignment 3 .ipynb\n",
      "Assignment 7.ipynb\n",
      "Assignment 8.ipynb\n",
      "Assignment 9.ipynb\n",
      "Attribute DataSet.xlsx\n",
      "books.csv\n",
      "books.db\n",
      "BullseyeCoverageError.txt\n",
      "Contacts\n",
      "Cookies\n",
      "data.csv\n",
      "Desktop\n",
      "Documents\n",
      "Downloads\n",
      "Dress Sales.xlsx\n",
      "Exception handling.ipynb\n",
      "Favorites\n",
      "Flipkar Scrapper\n",
      "Flipkart_scrapper\n",
      "haberman 1.csv\n",
      "haberman.csv\n",
      "haberman.names\n",
      "IntelGraphicsProfiles\n",
      "Links\n",
      "Local Settings\n",
      "MicrosoftEdgeBackups\n",
      "MJKJDeviceGUID\n",
      "MJKJRegInfo_I4HXU4CXO7RTUXPVB34C3QXNE63PV2RP\n",
      "Music\n",
      "My Documents\n",
      "My python notes\n",
      "mysql-init.txt\n",
      "NCH Software Suite\n",
      "NetHood\n",
      "new.zip\n",
      "newimg.jpg\n",
      "NTUSER.DAT\n",
      "ntuser.dat.LOG1\n",
      "ntuser.dat.LOG2\n",
      "NTUSER.DAT{d1bec08e-7f77-11ed-8a13-cb84e9530ba9}.TM.blf\n",
      "NTUSER.DAT{d1bec08e-7f77-11ed-8a13-cb84e9530ba9}.TMContainer00000000000000000001.regtrans-ms\n",
      "NTUSER.DAT{d1bec08e-7f77-11ed-8a13-cb84e9530ba9}.TMContainer00000000000000000002.regtrans-ms\n",
      "ntuser.ini\n",
      "omk.txt\n",
      "omkar.txt\n",
      "OneDrive - Sujay Distributors\n",
      "Online Retail (1).xlsx\n",
      "Online Retail.xlsx\n",
      "online_retail_II (1).xlsx\n",
      "Pandas Basic.ipynb\n",
      "pandas.ipynb\n",
      "path\n",
      "pollution.csv\n",
      "pollution.names\n",
      "Postman\n",
      "PrintHood\n",
      "programLog.txt\n",
      "PycharmProjects\n",
      "python assignment 2.ipynb\n",
      "Python Basic Assignment1.ipynb\n",
      "Python Basic Assignments.ipynb\n",
      "question.txt\n",
      "Recent\n",
      "Saved Games\n",
      "Scrapper.ipynb\n",
      "seaborn-data\n",
      "Searches\n",
      "SendTo\n",
      "source\n",
      "Start Menu\n",
      "Statistics Day 4.ipynb\n",
      "Statistics.ipynb\n",
      "Streamlabs OBS\n",
      "sudh.json\n",
      "Templates\n",
      "test.txt\n",
      "test1.txt\n",
      "test2.txt\n",
      "test3.omkar\n",
      "test5.txt\n",
      "test7.txt\n",
      "text2.txt\n",
      "today.txt\n",
      "Tracing\n",
      "Untitled.ipynb\n",
      "Untitled1.ipynb\n",
      "Untitled10.ipynb\n",
      "Untitled11.ipynb\n",
      "Untitled12.ipynb\n",
      "Untitled13.ipynb\n",
      "Untitled14.ipynb\n",
      "Untitled15.ipynb\n",
      "Untitled16.ipynb\n",
      "Untitled17.ipynb\n",
      "Untitled18.ipynb\n",
      "Untitled19.ipynb\n",
      "Untitled2.ipynb\n",
      "Untitled20.ipynb\n",
      "Untitled21.ipynb\n",
      "Untitled22.ipynb\n",
      "Untitled23.ipynb\n",
      "Untitled24.ipynb\n",
      "Untitled25.ipynb\n",
      "Untitled26.ipynb\n",
      "Untitled27.ipynb\n",
      "Untitled28.ipynb\n",
      "Untitled29.ipynb\n",
      "Untitled3.ipynb\n",
      "Untitled30.ipynb\n",
      "Untitled31.ipynb\n",
      "Untitled32.ipynb\n",
      "Untitled33.ipynb\n",
      "Untitled34.ipynb\n",
      "Untitled35.ipynb\n",
      "Untitled36.ipynb\n",
      "Untitled37.ipynb\n",
      "Untitled38.ipynb\n",
      "Untitled39.ipynb\n",
      "Untitled4.ipynb\n",
      "Untitled40.ipynb\n",
      "Untitled41.ipynb\n",
      "Untitled42.ipynb\n",
      "Untitled43.ipynb\n",
      "Untitled44.ipynb\n",
      "Untitled45.ipynb\n",
      "Untitled46.ipynb\n",
      "Untitled47.ipynb\n",
      "Untitled48.ipynb\n",
      "Untitled49.ipynb\n",
      "Untitled5.ipynb\n",
      "Untitled50.ipynb\n",
      "Untitled51.ipynb\n",
      "Untitled52.ipynb\n",
      "Untitled53.ipynb\n",
      "Untitled54.ipynb\n",
      "Untitled55.ipynb\n",
      "Untitled56.ipynb\n",
      "Untitled57.ipynb\n",
      "Untitled58.ipynb\n",
      "Untitled59.ipynb\n",
      "Untitled6.ipynb\n",
      "Untitled60.ipynb\n",
      "Untitled61.ipynb\n",
      "Untitled62.ipynb\n",
      "Untitled63.ipynb\n",
      "Untitled64.ipynb\n",
      "Untitled65.ipynb\n",
      "Untitled66.ipynb\n",
      "Untitled67.ipynb\n",
      "Untitled68.ipynb\n",
      "Untitled69.ipynb\n",
      "Untitled7.ipynb\n",
      "Untitled70.ipynb\n",
      "Untitled8.ipynb\n",
      "Untitled9.ipynb\n",
      "URL Table.txt\n",
      "Videos\n",
      "zoo.py.ipynb\n"
     ]
    }
   ],
   "source": [
    "import os\n",
    "files_in_directory = os.listdir()\n",
    "for file in files_in_directory:\n",
    "    print(file)\n"
   ]
  },
  {
   "cell_type": "markdown",
   "id": "5ccbfe01",
   "metadata": {},
   "source": [
    "5. Create a list of all of the files in your parent directory (minimum five files should be available)."
   ]
  },
  {
   "cell_type": "code",
   "execution_count": 14,
   "id": "6588bf2c",
   "metadata": {},
   "outputs": [
    {
     "data": {
      "text/plain": [
       "['All Users', 'Default', 'Default User', 'desktop.ini', 'omkar', 'Public']"
      ]
     },
     "execution_count": 14,
     "metadata": {},
     "output_type": "execute_result"
    }
   ],
   "source": [
    "os.listdir('..')"
   ]
  },
  {
   "cell_type": "markdown",
   "id": "52b36b40",
   "metadata": {},
   "source": [
    "6. Use multiprocessing to create three separate processes. Make each one wait a random number of seconds between one and five, print the current time, and then exit."
   ]
  },
  {
   "cell_type": "code",
   "execution_count": 17,
   "id": "ef7f1948",
   "metadata": {},
   "outputs": [
    {
     "name": "stdout",
     "output_type": "stream",
     "text": [
      "Thread 0 started at 2023-08-31 21:02:38, waiting for 1.86 seconds.\n",
      "Thread 1 started at 2023-08-31 21:02:38, waiting for 3.91 seconds.\n",
      "Thread 2 started at 2023-08-31 21:02:38, waiting for 4.21 seconds.\n",
      "Thread 0 finished at 2023-08-31 21:02:40 after waiting for 1.86 seconds.\n",
      "Thread 1 finished at 2023-08-31 21:02:42 after waiting for 3.91 seconds.\n",
      "Thread 2 finished at 2023-08-31 21:02:43 after waiting for 4.21 seconds.\n",
      "All threads have finished.\n"
     ]
    }
   ],
   "source": [
    "import threading\n",
    "import random\n",
    "import time\n",
    "from datetime import datetime\n",
    "\n",
    "def worker(thread_id):\n",
    "    start_time = datetime.now()\n",
    "    wait_time = random.uniform(1, 5)\n",
    "    print(f\"Thread {thread_id} started at {start_time.strftime('%Y-%m-%d %H:%M:%S')}, waiting for {wait_time:.2f} seconds.\")\n",
    "    time.sleep(wait_time)\n",
    "    end_time = datetime.now()\n",
    "    print(f\"Thread {thread_id} finished at {end_time.strftime('%Y-%m-%d %H:%M:%S')} after waiting for {wait_time:.2f} seconds.\")\n",
    "\n",
    "if __name__ == '__main__':\n",
    "    threads = [threading.Thread(target=worker, args=(i,)) for i in range(3)]\n",
    "    \n",
    "    for thread in threads:\n",
    "        thread.start()\n",
    "    \n",
    "    for thread in threads:\n",
    "        thread.join()\n",
    "    \n",
    "    print(\"All threads have finished.\")\n",
    "\n"
   ]
  },
  {
   "cell_type": "markdown",
   "id": "b98e94fb",
   "metadata": {},
   "source": [
    "7. Create a date object of your day of birth."
   ]
  },
  {
   "cell_type": "code",
   "execution_count": 18,
   "id": "255a7a2a",
   "metadata": {},
   "outputs": [
    {
     "name": "stdout",
     "output_type": "stream",
     "text": [
      "Birth date: 1999-03-23\n"
     ]
    }
   ],
   "source": [
    "birth_date = datetime(year=1999, month=3, day=23).date()\n",
    "print(\"Birth date:\", birth_date)\n"
   ]
  },
  {
   "cell_type": "markdown",
   "id": "d7bfaf26",
   "metadata": {},
   "source": [
    "8. What day of the week was your day of birth?"
   ]
  },
  {
   "cell_type": "code",
   "execution_count": 19,
   "id": "89dae67a",
   "metadata": {},
   "outputs": [
    {
     "name": "stdout",
     "output_type": "stream",
     "text": [
      "Day of the week: Tuesday\n"
     ]
    }
   ],
   "source": [
    "birth_date = datetime(year=1999, month=3, day=23).date()\n",
    "day_of_week = birth_date.strftime(\"%A\")\n",
    "\n",
    "print(\"Day of the week:\", day_of_week)\n"
   ]
  },
  {
   "cell_type": "markdown",
   "id": "359876a2",
   "metadata": {},
   "source": [
    "9. When will you be (or when were you) 10,000 days old?"
   ]
  },
  {
   "cell_type": "code",
   "execution_count": 21,
   "id": "b5644993",
   "metadata": {},
   "outputs": [
    {
     "name": "stdout",
     "output_type": "stream",
     "text": [
      "Date 10,000 days after the start date: 2026-08-08\n"
     ]
    }
   ],
   "source": [
    "from datetime import datetime, timedelta\n",
    "\n",
    "start_date = datetime(year=1999, month=3, day=23)\n",
    "days_to_add = timedelta(days=10000)\n",
    "result_date = start_date + days_to_add\n",
    "\n",
    "print(\"Date 10,000 days after the start date:\", result_date.date())\n"
   ]
  },
  {
   "cell_type": "code",
   "execution_count": null,
   "id": "a7ed650f",
   "metadata": {},
   "outputs": [],
   "source": []
  },
  {
   "cell_type": "code",
   "execution_count": null,
   "id": "d3cb3c99",
   "metadata": {},
   "outputs": [],
   "source": []
  },
  {
   "cell_type": "code",
   "execution_count": null,
   "id": "46661f6d",
   "metadata": {},
   "outputs": [],
   "source": []
  },
  {
   "cell_type": "code",
   "execution_count": null,
   "id": "47e6caf0",
   "metadata": {},
   "outputs": [],
   "source": []
  },
  {
   "cell_type": "code",
   "execution_count": null,
   "id": "417430d0",
   "metadata": {},
   "outputs": [],
   "source": []
  },
  {
   "cell_type": "code",
   "execution_count": null,
   "id": "e49efdac",
   "metadata": {},
   "outputs": [],
   "source": []
  },
  {
   "cell_type": "code",
   "execution_count": null,
   "id": "5c8e89e4",
   "metadata": {},
   "outputs": [],
   "source": []
  },
  {
   "cell_type": "code",
   "execution_count": null,
   "id": "c2e1acd2",
   "metadata": {},
   "outputs": [],
   "source": []
  },
  {
   "cell_type": "code",
   "execution_count": null,
   "id": "e23c182c",
   "metadata": {},
   "outputs": [],
   "source": []
  }
 ],
 "metadata": {
  "kernelspec": {
   "display_name": "Python 3 (ipykernel)",
   "language": "python",
   "name": "python3"
  },
  "language_info": {
   "codemirror_mode": {
    "name": "ipython",
    "version": 3
   },
   "file_extension": ".py",
   "mimetype": "text/x-python",
   "name": "python",
   "nbconvert_exporter": "python",
   "pygments_lexer": "ipython3",
   "version": "3.9.7"
  }
 },
 "nbformat": 4,
 "nbformat_minor": 5
}
