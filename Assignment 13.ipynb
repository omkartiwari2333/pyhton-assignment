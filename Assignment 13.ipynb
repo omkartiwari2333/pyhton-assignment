{
 "cells": [
  {
   "cell_type": "markdown",
   "id": "db589faf",
   "metadata": {},
   "source": [
    "1. What advantages do Excel spreadsheets have over CSV spreadsheets?"
   ]
  },
  {
   "cell_type": "markdown",
   "id": "3eeecb7f",
   "metadata": {},
   "source": [
    "Ans: In Excel, spreadsheets can have values of datatypes other than strings; cells can have different fonts, sizes, or color settings; cells can have varying widths and heights; adjecent cells can be merged; and we can embed images and charts."
   ]
  },
  {
   "cell_type": "markdown",
   "id": "0de1ffd8",
   "metadata": {},
   "source": [
    "2.What do you pass to csv.reader() and csv.writer() to create reader and writer objects?"
   ]
  },
  {
   "cell_type": "markdown",
   "id": "702a8f8a",
   "metadata": {},
   "source": [
    "Ans: To create reader and writer objects using the csv module:\n",
    "\n",
    "1. csv.reader(): Pass a readable file-like object to csv.reader() for reading CSV files.\n",
    "2. csv.writer(): Pass a writable file-like object to csv.writer() for writing CSV files."
   ]
  },
  {
   "cell_type": "markdown",
   "id": "25d58840",
   "metadata": {},
   "source": [
    "3. What modes do File objects for reader and writer objects need to be opened in?\n"
   ]
  },
  {
   "cell_type": "markdown",
   "id": "0e042d7c",
   "metadata": {},
   "source": [
    "Ans: csv.reader(): The file object should be opened in read mode ('r') or text mode ('rt'). \n",
    "     csv.writer(): The file object should be opened in write mode ('w') or text mode ('wt'). "
   ]
  },
  {
   "cell_type": "markdown",
   "id": "10dae91c",
   "metadata": {},
   "source": [
    "4. What method takes a list argument and writes it to a CSV file?"
   ]
  },
  {
   "cell_type": "markdown",
   "id": "69da549c",
   "metadata": {},
   "source": [
    "Ans: the writerow() method takes a list argument and writes it to a CSV file."
   ]
  },
  {
   "cell_type": "markdown",
   "id": "d8373451",
   "metadata": {},
   "source": [
    "5. What do the keyword arguments delimiter and line terminator do?"
   ]
  },
  {
   "cell_type": "markdown",
   "id": "25889fa7",
   "metadata": {},
   "source": [
    "Ans:The delimeter argument change the string used to separate cells in a row. The lineterminator argument changes the string used to separate rows."
   ]
  },
  {
   "cell_type": "markdown",
   "id": "e337ad0c",
   "metadata": {},
   "source": [
    "6. What function takes a string of JSON data and returns a Python data structure?"
   ]
  },
  {
   "cell_type": "markdown",
   "id": "2620c4fc",
   "metadata": {},
   "source": [
    "ANS: json.loads()"
   ]
  },
  {
   "cell_type": "markdown",
   "id": "bd994975",
   "metadata": {},
   "source": [
    "7. What function takes a Python data structure and returns a string of JSON data?"
   ]
  },
  {
   "cell_type": "markdown",
   "id": "5cabcb34",
   "metadata": {},
   "source": [
    "ANs:  json.dumps()"
   ]
  },
  {
   "cell_type": "code",
   "execution_count": null,
   "id": "b4be7320",
   "metadata": {},
   "outputs": [],
   "source": []
  },
  {
   "cell_type": "code",
   "execution_count": null,
   "id": "d12ef9b8",
   "metadata": {},
   "outputs": [],
   "source": []
  },
  {
   "cell_type": "code",
   "execution_count": null,
   "id": "616cfdd1",
   "metadata": {},
   "outputs": [],
   "source": []
  }
 ],
 "metadata": {
  "kernelspec": {
   "display_name": "Python 3 (ipykernel)",
   "language": "python",
   "name": "python3"
  },
  "language_info": {
   "codemirror_mode": {
    "name": "ipython",
    "version": 3
   },
   "file_extension": ".py",
   "mimetype": "text/x-python",
   "name": "python",
   "nbconvert_exporter": "python",
   "pygments_lexer": "ipython3",
   "version": "3.9.7"
  }
 },
 "nbformat": 4,
 "nbformat_minor": 5
}
