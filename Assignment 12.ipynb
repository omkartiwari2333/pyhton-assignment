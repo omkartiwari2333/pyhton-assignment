{
 "cells": [
  {
   "cell_type": "markdown",
   "id": "49e4f358",
   "metadata": {},
   "source": [
    "1. In what modes should the PdfFileReader() and PdfFileWriter() File objects will be opened?"
   ]
  },
  {
   "cell_type": "markdown",
   "id": "d010ae90",
   "metadata": {},
   "source": [
    "Ans: from PyPDF2 import PdfFileReader\n",
    "\n",
    "pdf_reader = PdfFileReader(\"input.pdf\")\n",
    "\n",
    "from PyPDF2 import PdfFileWriter\n",
    "\n",
    "pdf_writer = PdfFileWriter()\n"
   ]
  },
  {
   "cell_type": "markdown",
   "id": "cf8e3dab",
   "metadata": {},
   "source": [
    "2. From a PdfFileReader object, how do you get a Page object for page 5?"
   ]
  },
  {
   "cell_type": "markdown",
   "id": "a7e00180",
   "metadata": {},
   "source": [
    "Ans:Calling getPage(4) will return a page object for page 5, since page 0 is the first page.\n",
    "\n",
    "\n"
   ]
  },
  {
   "cell_type": "code",
   "execution_count": 5,
   "id": "b603e305",
   "metadata": {},
   "outputs": [
    {
     "name": "stdout",
     "output_type": "stream",
     "text": [
      "Requirement already satisfied: PyPDF2 in c:\\users\\omkar\\anaconda3\\lib\\site-packages (3.0.1)\n",
      "Requirement already satisfied: typing_extensions>=3.10.0.0 in c:\\users\\omkar\\anaconda3\\lib\\site-packages (from PyPDF2) (3.10.0.2)\n"
     ]
    }
   ],
   "source": [
    "!pip install PyPDF2\n",
    "\n",
    "from PyPDF2 import PdfReader\n",
    "\n",
    "pdf_reader = PdfReader(\"C:\\\\Users\\\\omkar\\\\Downloads\\\\21ODMCR754-Major Project Guidelines (2).pdf\")\n",
    "\n",
    "page_5 = pdf_reader.pages[4]\n",
    "\n",
    "\n"
   ]
  },
  {
   "cell_type": "markdown",
   "id": "b4c8090c",
   "metadata": {},
   "source": [
    "3. What PdfFileReader variable stores the number of pages in the PDF document?"
   ]
  },
  {
   "cell_type": "markdown",
   "id": "6818e4b0",
   "metadata": {},
   "source": [
    "Ans:The total number of pages in the document is stored in the numPages variable of a PdfReader object."
   ]
  },
  {
   "cell_type": "markdown",
   "id": "a03d206e",
   "metadata": {},
   "source": [
    "4.4. If a PdfFileReader object’s PDF is encrypted with the password swordfish, what must you do before you can obtain Page objects from it?"
   ]
  },
  {
   "cell_type": "markdown",
   "id": "cf3c0a9a",
   "metadata": {},
   "source": [
    "ans:we can encrpyt it by \n",
    "pdf_reader = PdfFileReader(\"filename.pdf\", \"swordfish\")\n",
    "or\n",
    "pdf_reader.decrypt(\"swordfish\")\n"
   ]
  },
  {
   "cell_type": "markdown",
   "id": "08923e19",
   "metadata": {},
   "source": [
    "5. What methods do you use to rotate a page?"
   ]
  },
  {
   "cell_type": "markdown",
   "id": "a9e22b6f",
   "metadata": {},
   "source": [
    "ans:The pages of a PDF can be rotated in 90-degree increments with the rotateClockwise() and rotateCounterClockwise() methods."
   ]
  },
  {
   "cell_type": "code",
   "execution_count": null,
   "id": "e77fad3f",
   "metadata": {},
   "outputs": [],
   "source": [
    "page = page.rotateClockwise(90)  \n",
    "# Rotate 90 degrees clockwise\n",
    "page = page.rotateCounterClockwise(90)\n",
    "# Rotate 90 degrees counter-clockwise\n",
    "\n"
   ]
  },
  {
   "cell_type": "markdown",
   "id": "4c0f0f43",
   "metadata": {},
   "source": [
    "6. What is the difference between a Run object and a Paragraph object?"
   ]
  },
  {
   "cell_type": "markdown",
   "id": "50ea79c8",
   "metadata": {},
   "source": [
    "ANS: A document contains multiple paragraphs. A paragraph begins on a new line and contains multiple runs. Runs are contiguous groups of charecters within a paragraph."
   ]
  },
  {
   "cell_type": "markdown",
   "id": "b57c14a8",
   "metadata": {},
   "source": [
    "7. How do you obtain a list of Paragraph objects for a Document object that’s stored in a variable named doc?"
   ]
  },
  {
   "cell_type": "markdown",
   "id": "3a5eb5ef",
   "metadata": {},
   "source": [
    "ans:from docx import Document\n",
    "doc = Document(\"your_document.docx\")\n"
   ]
  },
  {
   "cell_type": "code",
   "execution_count": 9,
   "id": "d4a67879",
   "metadata": {},
   "outputs": [
    {
     "name": "stdout",
     "output_type": "stream",
     "text": [
      "Requirement already satisfied: python-docx in c:\\users\\omkar\\anaconda3\\lib\\site-packages (0.8.11)\n",
      "Requirement already satisfied: lxml>=2.3.2 in c:\\users\\omkar\\anaconda3\\lib\\site-packages (from python-docx) (4.6.3)\n"
     ]
    }
   ],
   "source": [
    "!pip install python-docx\n"
   ]
  },
  {
   "cell_type": "code",
   "execution_count": 10,
   "id": "2f57a6bf",
   "metadata": {},
   "outputs": [],
   "source": [
    "from docx import Document"
   ]
  },
  {
   "cell_type": "code",
   "execution_count": 11,
   "id": "82c7f43e",
   "metadata": {},
   "outputs": [],
   "source": [
    "doc = Document(\"C:\\\\Users\\\\omkar\\\\Downloads\\\\Assignment_12.docx\")"
   ]
  },
  {
   "cell_type": "code",
   "execution_count": 15,
   "id": "934b2e8c",
   "metadata": {},
   "outputs": [
    {
     "data": {
      "text/plain": [
       "[<docx.text.paragraph.Paragraph at 0x1fe98da73d0>,\n",
       " <docx.text.paragraph.Paragraph at 0x1fe98db66d0>,\n",
       " <docx.text.paragraph.Paragraph at 0x1fe98db6640>,\n",
       " <docx.text.paragraph.Paragraph at 0x1fe98db6730>,\n",
       " <docx.text.paragraph.Paragraph at 0x1fe98db6790>,\n",
       " <docx.text.paragraph.Paragraph at 0x1fe98db67f0>,\n",
       " <docx.text.paragraph.Paragraph at 0x1fe98db68b0>,\n",
       " <docx.text.paragraph.Paragraph at 0x1fe98db6970>,\n",
       " <docx.text.paragraph.Paragraph at 0x1fe98db69d0>,\n",
       " <docx.text.paragraph.Paragraph at 0x1fe98db68e0>,\n",
       " <docx.text.paragraph.Paragraph at 0x1fe98db6820>,\n",
       " <docx.text.paragraph.Paragraph at 0x1fe98db6a30>,\n",
       " <docx.text.paragraph.Paragraph at 0x1fe98db6a90>]"
      ]
     },
     "execution_count": 15,
     "metadata": {},
     "output_type": "execute_result"
    }
   ],
   "source": [
    "doc.paragraphs\n"
   ]
  },
  {
   "cell_type": "markdown",
   "id": "cadd0cd7",
   "metadata": {},
   "source": [
    "8. What type of object has bold, underline, italic, strike, and outline variables?"
   ]
  },
  {
   "cell_type": "markdown",
   "id": "8639e1cc",
   "metadata": {},
   "source": [
    "Ans:Run Object"
   ]
  },
  {
   "cell_type": "markdown",
   "id": "80360607",
   "metadata": {},
   "source": [
    "9. What is the difference between False, True, and None for the bold variable?"
   ]
  },
  {
   "cell_type": "markdown",
   "id": "16d879bd",
   "metadata": {},
   "source": [
    "ANS:\n",
    "    False for the bold variable: Sets the text to regular, non-bold appearance.\n",
    "\n",
    "True for the bold variable: Sets the text to appear in bold font weight.\n",
    "\n",
    "           \n",
    "None for the bold variable: If the surrounding context is bold, the text will appear bold; if it's not bold, the text won't be bold either."
   ]
  },
  {
   "cell_type": "markdown",
   "id": "f69d0740",
   "metadata": {},
   "source": [
    "10. How do you create a Document object for a new Word document?"
   ]
  },
  {
   "cell_type": "markdown",
   "id": "285c0dc4",
   "metadata": {},
   "source": [
    "Ans:mydoc = docx.Document()"
   ]
  },
  {
   "cell_type": "markdown",
   "id": "80732aad",
   "metadata": {},
   "source": [
    "11. How do you add a paragraph with the text 'Hello, there!' to a Document object stored in a variable named doc?"
   ]
  },
  {
   "cell_type": "markdown",
   "id": "c72c4f6b",
   "metadata": {},
   "source": [
    "Ans: doc.add_paragraph('Hello, there!')\n"
   ]
  },
  {
   "cell_type": "markdown",
   "id": "81057075",
   "metadata": {},
   "source": [
    "12. What integers represent the levels of headings available in Word documents?"
   ]
  },
  {
   "cell_type": "markdown",
   "id": "4ebca5d1",
   "metadata": {},
   "source": [
    "Ans: The integers 1, 2, 3, and so on, represent the hierarchical levels of headings available in Word documents. These levels indicate the importance and organization of content within the document."
   ]
  },
  {
   "cell_type": "code",
   "execution_count": null,
   "id": "e195147e",
   "metadata": {},
   "outputs": [],
   "source": []
  }
 ],
 "metadata": {
  "kernelspec": {
   "display_name": "Python 3 (ipykernel)",
   "language": "python",
   "name": "python3"
  },
  "language_info": {
   "codemirror_mode": {
    "name": "ipython",
    "version": 3
   },
   "file_extension": ".py",
   "mimetype": "text/x-python",
   "name": "python",
   "nbconvert_exporter": "python",
   "pygments_lexer": "ipython3",
   "version": "3.9.7"
  }
 },
 "nbformat": 4,
 "nbformat_minor": 5
}
