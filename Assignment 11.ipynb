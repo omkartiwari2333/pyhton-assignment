{
 "cells": [
  {
   "cell_type": "markdown",
   "id": "3dd9daaa",
   "metadata": {},
   "source": [
    "1. Create an assert statement that throws an AssertionError if the variable spam is a negative\n",
    "integer."
   ]
  },
  {
   "cell_type": "code",
   "execution_count": 1,
   "id": "cbcefa36",
   "metadata": {},
   "outputs": [
    {
     "name": "stdout",
     "output_type": "stream",
     "text": [
      "AssertionError:  Division by zero is not allowed\n"
     ]
    }
   ],
   "source": [
    "def division(a,b):\n",
    "    assert b!=0, \"Division by zero is not allowed\"\n",
    "    return a/b\n",
    "numerator= 10\n",
    "denominator = 0\n",
    "try: \n",
    "    result = division(numerator,denominator)\n",
    "    print(\"Result: \", result)\n",
    "except AssertionError as e:\n",
    "    print(\"AssertionError: \",e)"
   ]
  },
  {
   "cell_type": "code",
   "execution_count": 2,
   "id": "12855d7d",
   "metadata": {},
   "outputs": [
    {
     "data": {
      "text/plain": [
       "2.5"
      ]
     },
     "execution_count": 2,
     "metadata": {},
     "output_type": "execute_result"
    }
   ],
   "source": [
    "division(5,2)"
   ]
  },
  {
   "cell_type": "code",
   "execution_count": 3,
   "id": "1340462c",
   "metadata": {},
   "outputs": [
    {
     "ename": "AssertionError",
     "evalue": "Division by zero is not allowed",
     "output_type": "error",
     "traceback": [
      "\u001b[1;31m---------------------------------------------------------------------------\u001b[0m",
      "\u001b[1;31mAssertionError\u001b[0m                            Traceback (most recent call last)",
      "\u001b[1;32m~\\AppData\\Local\\Temp/ipykernel_13488/142001517.py\u001b[0m in \u001b[0;36m<module>\u001b[1;34m\u001b[0m\n\u001b[1;32m----> 1\u001b[1;33m \u001b[0mdivision\u001b[0m\u001b[1;33m(\u001b[0m\u001b[1;36m10\u001b[0m\u001b[1;33m,\u001b[0m\u001b[1;36m0\u001b[0m\u001b[1;33m)\u001b[0m\u001b[1;33m\u001b[0m\u001b[1;33m\u001b[0m\u001b[0m\n\u001b[0m",
      "\u001b[1;32m~\\AppData\\Local\\Temp/ipykernel_13488/1161568619.py\u001b[0m in \u001b[0;36mdivision\u001b[1;34m(a, b)\u001b[0m\n\u001b[0;32m      1\u001b[0m \u001b[1;32mdef\u001b[0m \u001b[0mdivision\u001b[0m\u001b[1;33m(\u001b[0m\u001b[0ma\u001b[0m\u001b[1;33m,\u001b[0m\u001b[0mb\u001b[0m\u001b[1;33m)\u001b[0m\u001b[1;33m:\u001b[0m\u001b[1;33m\u001b[0m\u001b[1;33m\u001b[0m\u001b[0m\n\u001b[1;32m----> 2\u001b[1;33m     \u001b[1;32massert\u001b[0m \u001b[0mb\u001b[0m\u001b[1;33m!=\u001b[0m\u001b[1;36m0\u001b[0m\u001b[1;33m,\u001b[0m \u001b[1;34m\"Division by zero is not allowed\"\u001b[0m\u001b[1;33m\u001b[0m\u001b[1;33m\u001b[0m\u001b[0m\n\u001b[0m\u001b[0;32m      3\u001b[0m     \u001b[1;32mreturn\u001b[0m \u001b[0ma\u001b[0m\u001b[1;33m/\u001b[0m\u001b[0mb\u001b[0m\u001b[1;33m\u001b[0m\u001b[1;33m\u001b[0m\u001b[0m\n\u001b[0;32m      4\u001b[0m \u001b[0mnumerator\u001b[0m\u001b[1;33m=\u001b[0m \u001b[1;36m10\u001b[0m\u001b[1;33m\u001b[0m\u001b[1;33m\u001b[0m\u001b[0m\n\u001b[0;32m      5\u001b[0m \u001b[0mdenominator\u001b[0m \u001b[1;33m=\u001b[0m \u001b[1;36m0\u001b[0m\u001b[1;33m\u001b[0m\u001b[1;33m\u001b[0m\u001b[0m\n",
      "\u001b[1;31mAssertionError\u001b[0m: Division by zero is not allowed"
     ]
    }
   ],
   "source": [
    "division(10,0)"
   ]
  },
  {
   "cell_type": "markdown",
   "id": "fb1caaef",
   "metadata": {},
   "source": [
    "2. Write an assert statement that triggers an AssertionError if the variables eggs and bacon contain strings that are the same as each other, even if their cases are different (that is, 'hello' and 'hello' are considered the same, and 'goodbye' and 'GOODbye' are also considered the same)."
   ]
  },
  {
   "cell_type": "code",
   "execution_count": 15,
   "id": "4ee304cf",
   "metadata": {},
   "outputs": [
    {
     "name": "stdout",
     "output_type": "stream",
     "text": [
      "Strings are same.\n"
     ]
    }
   ],
   "source": [
    "def assert_case(eggs,bacons):\n",
    "    if eggs.casefold() != bacons.casefold():\n",
    "        raise AssertionError(\"eggs and bacon cases should  be same\")\n",
    "    return True\n",
    "\n",
    "try:\n",
    "    assert_case(\"HeLLo\", \"hello\")\n",
    "    print(\"Strings are same.\")\n",
    "except AssertionError as e:\n",
    "    print(\"AssertionError:\", e)\n",
    "\n",
    "    "
   ]
  },
  {
   "cell_type": "code",
   "execution_count": 17,
   "id": "41033344",
   "metadata": {},
   "outputs": [
    {
     "data": {
      "text/plain": [
       "True"
      ]
     },
     "execution_count": 17,
     "metadata": {},
     "output_type": "execute_result"
    }
   ],
   "source": [
    "assert_case(\"goodbye\", \"GOODbye\")"
   ]
  },
  {
   "cell_type": "markdown",
   "id": "c2b4bb79",
   "metadata": {},
   "source": [
    "3.Create an assert statement that throws an AssertionError every time"
   ]
  },
  {
   "cell_type": "code",
   "execution_count": 1,
   "id": "31fa5c90",
   "metadata": {},
   "outputs": [],
   "source": [
    "def assertion_error():\n",
    "    assert False, \"This assertion always throws an error\""
   ]
  },
  {
   "cell_type": "code",
   "execution_count": 2,
   "id": "5bf9e2c5",
   "metadata": {},
   "outputs": [
    {
     "ename": "AssertionError",
     "evalue": "This assertion always throws an error",
     "output_type": "error",
     "traceback": [
      "\u001b[1;31m---------------------------------------------------------------------------\u001b[0m",
      "\u001b[1;31mAssertionError\u001b[0m                            Traceback (most recent call last)",
      "\u001b[1;32m~\\AppData\\Local\\Temp/ipykernel_13284/550227104.py\u001b[0m in \u001b[0;36m<module>\u001b[1;34m\u001b[0m\n\u001b[1;32m----> 1\u001b[1;33m \u001b[0massertion_error\u001b[0m\u001b[1;33m(\u001b[0m\u001b[1;33m)\u001b[0m\u001b[1;33m\u001b[0m\u001b[1;33m\u001b[0m\u001b[0m\n\u001b[0m",
      "\u001b[1;32m~\\AppData\\Local\\Temp/ipykernel_13284/2157758265.py\u001b[0m in \u001b[0;36massertion_error\u001b[1;34m()\u001b[0m\n\u001b[0;32m      1\u001b[0m \u001b[1;32mdef\u001b[0m \u001b[0massertion_error\u001b[0m\u001b[1;33m(\u001b[0m\u001b[1;33m)\u001b[0m\u001b[1;33m:\u001b[0m\u001b[1;33m\u001b[0m\u001b[1;33m\u001b[0m\u001b[0m\n\u001b[1;32m----> 2\u001b[1;33m     \u001b[1;32massert\u001b[0m \u001b[1;32mFalse\u001b[0m\u001b[1;33m,\u001b[0m \u001b[1;34m\"This assertion always throws an error\"\u001b[0m\u001b[1;33m\u001b[0m\u001b[1;33m\u001b[0m\u001b[0m\n\u001b[0m",
      "\u001b[1;31mAssertionError\u001b[0m: This assertion always throws an error"
     ]
    }
   ],
   "source": [
    "assertion_error()"
   ]
  },
  {
   "cell_type": "markdown",
   "id": "33ba04e2",
   "metadata": {},
   "source": [
    "4. What are the two lines that must be present in your software in order to call logging.debug()?"
   ]
  },
  {
   "cell_type": "markdown",
   "id": "a3b77670",
   "metadata": {},
   "source": [
    "ans: The two important lines are:\n",
    "        1. import logging\n",
    "        2. logging.basicConfig(level= logging.Debug)"
   ]
  },
  {
   "cell_type": "markdown",
   "id": "72e482c4",
   "metadata": {},
   "source": [
    "5. What are the two lines that your program must have in order to have logging.debug() send a logging message to a file named programLog.txt?"
   ]
  },
  {
   "cell_type": "markdown",
   "id": "cb55e200",
   "metadata": {},
   "source": [
    "ans\n"
   ]
  },
  {
   "cell_type": "code",
   "execution_count": 4,
   "id": "ed4e6da1",
   "metadata": {},
   "outputs": [],
   "source": [
    "import logging\n",
    "\n",
    "logging.basicConfig(filename='programLog.txt', level=logging.DEBUG)\n"
   ]
  },
  {
   "cell_type": "markdown",
   "id": "04a5ea52",
   "metadata": {},
   "source": [
    "6. What are the five levels of logging?"
   ]
  },
  {
   "cell_type": "markdown",
   "id": "b36acd25",
   "metadata": {},
   "source": [
    "ANS:\n",
    "    The five levels are :\n",
    "        1. Debug with level 10 in debyf it will accept all \n",
    "        2.INFO 20 it will accept all except Debug.\n",
    "        3. Warning 30 it will accept all except Debug and info.\n",
    "        4.Error 40 it will accept all expect above all error.\n",
    "        5. Critical 50 it will accept only critical error."
   ]
  },
  {
   "cell_type": "markdown",
   "id": "bd44d595",
   "metadata": {},
   "source": [
    "7. What line of code would you add to your software to disable all logging messages?"
   ]
  },
  {
   "cell_type": "code",
   "execution_count": null,
   "id": "429d76fc",
   "metadata": {},
   "outputs": [],
   "source": [
    "\n",
    "logging.disable(logging.Critical)"
   ]
  },
  {
   "cell_type": "markdown",
   "id": "3974ecd9",
   "metadata": {},
   "source": [
    "8.Why is using logging messages better than using print() to display the same message?"
   ]
  },
  {
   "cell_type": "markdown",
   "id": "b1e875f0",
   "metadata": {},
   "source": [
    "ans:Logging is preferred over using print() because it offers controlled message levels, flexible outputs, context details, severity categorization, better performance, easy removal, standard practices, integration with libraries, and built-in error handling."
   ]
  },
  {
   "cell_type": "markdown",
   "id": "d8edacc7",
   "metadata": {},
   "source": [
    "9. What are the differences between the Step Over, Step In, and Step Out buttons in the debugger?"
   ]
  },
  {
   "cell_type": "markdown",
   "id": "8472ddb9",
   "metadata": {},
   "source": [
    "ans:\n",
    "Step Over: Executes the current line and moves to the next line. Functions are treated as single steps.\n",
    "\n",
    "Step In: Dives into the details of a function call, stopping at the first line of the called function.\n",
    "\n",
    "Step Out: Executes the remaining lines of the current function and returns to the calling function."
   ]
  },
  {
   "cell_type": "markdown",
   "id": "2419a251",
   "metadata": {},
   "source": [
    "10.After you click Continue, when will the debugger stop ?"
   ]
  },
  {
   "cell_type": "markdown",
   "id": "ecfda052",
   "metadata": {},
   "source": [
    "ans:After clicking \"Continue\" in the debugger, the debugger will stop when it encounters a set breakpoint, an unhandled exception is thrown, or the program's execution completes."
   ]
  },
  {
   "cell_type": "markdown",
   "id": "a9cbb1ef",
   "metadata": {},
   "source": [
    "11. What is the concept of a breakpoint?"
   ]
  },
  {
   "cell_type": "markdown",
   "id": "3d24e734",
   "metadata": {},
   "source": [
    "ans:A breakpoint is a marker set in code during debugging that pauses program execution at a chosen point. It lets users to examine variables and step through code to understand behavior, aiding issue identification and analysis. Breakpoints offer controlled pausing for focused debugging and can be adjusted or removed as needed."
   ]
  },
  {
   "cell_type": "code",
   "execution_count": null,
   "id": "e1c420e6",
   "metadata": {},
   "outputs": [],
   "source": []
  },
  {
   "cell_type": "code",
   "execution_count": null,
   "id": "9a042e07",
   "metadata": {},
   "outputs": [],
   "source": []
  },
  {
   "cell_type": "code",
   "execution_count": null,
   "id": "071413f3",
   "metadata": {},
   "outputs": [],
   "source": []
  },
  {
   "cell_type": "code",
   "execution_count": null,
   "id": "264d779a",
   "metadata": {},
   "outputs": [],
   "source": []
  }
 ],
 "metadata": {
  "kernelspec": {
   "display_name": "Python 3 (ipykernel)",
   "language": "python",
   "name": "python3"
  },
  "language_info": {
   "codemirror_mode": {
    "name": "ipython",
    "version": 3
   },
   "file_extension": ".py",
   "mimetype": "text/x-python",
   "name": "python",
   "nbconvert_exporter": "python",
   "pygments_lexer": "ipython3",
   "version": "3.9.7"
  }
 },
 "nbformat": 4,
 "nbformat_minor": 5
}
